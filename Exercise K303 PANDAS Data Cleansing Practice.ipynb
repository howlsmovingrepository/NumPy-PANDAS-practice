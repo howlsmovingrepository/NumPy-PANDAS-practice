{
 "cells": [
  {
   "cell_type": "code",
   "execution_count": 104,
   "metadata": {},
   "outputs": [],
   "source": [
    "import pandas as pd"
   ]
  },
  {
   "cell_type": "code",
   "execution_count": 105,
   "metadata": {},
   "outputs": [],
   "source": [
    "def winning_team(visting_Score, visting_Name,home_Score, home_Name):\n",
    "    if visting_Score > home_Score:\n",
    "        return visting_Name\n",
    "    else:\n",
    "        return home_Name"
   ]
  },
  {
   "cell_type": "code",
   "execution_count": 106,
   "metadata": {
    "scrolled": true
   },
   "outputs": [
    {
     "name": "stdout",
     "output_type": "stream",
     "text": [
      "      FullDate           Scores\n",
      "0  Thu, Aug 25  CAR 13 @ CIN 24\n",
      "1  Thu, Aug 25  CLE 14 @ PHI 24\n",
      "2  Thu, Aug 25  WAS 31 @ BAL 34\n",
      "3  Fri, Aug 26   GB 24 @ IND 21\n",
      "4  Fri, Aug 26   STL 14 @ KC 10\n"
     ]
    }
   ],
   "source": [
    "dates_Scores = pd.read_csv(\"K303_DataCleansing.csv\",usecols = [0,1])\n",
    "new_header = dates_Scores.iloc[0]\n",
    "dates_Scores.columns = new_header\n",
    "dates_Scores.columns = [\"FullDate\", \"Scores\"]\n",
    "print(dates_Scores.head())"
   ]
  },
  {
   "cell_type": "code",
   "execution_count": 107,
   "metadata": {
    "scrolled": true
   },
   "outputs": [
    {
     "name": "stdout",
     "output_type": "stream",
     "text": [
      "      0        1\n",
      "0   Thu   Aug 25\n",
      "1   Thu   Aug 25\n",
      "2   Thu   Aug 25\n",
      "3   Fri   Aug 26\n",
      "4   Fri   Aug 26\n",
      "5   Sat   Aug 27\n",
      "6   Sat   Aug 27\n",
      "7   Sat   Aug 27\n",
      "8   Sat   Aug 27\n",
      "9   Sat   Aug 27\n",
      "10  Sat   Aug 27\n",
      "11  Sat   Aug 27\n",
      "12  Sat   Aug 27\n",
      "13  Sat   Aug 27\n",
      "14  Sun   Aug 28\n",
      "15  Mon   Aug 29\n",
      "16  Thu   Sep 01\n",
      "17  Thu   Sep 01\n",
      "18  Thu   Sep 01\n",
      "19  Thu   Sep 01\n",
      "20  Thu   Sep 01\n",
      "21  Thu   Sep 01\n",
      "22  Thu   Sep 01\n",
      "23  Thu   Sep 01\n",
      "24  Thu   Sep 01\n",
      "25  Thu   Sep 01\n",
      "26  Thu   Sep 01\n",
      "27  Thu   Sep 01\n",
      "28  Thu   Sep 01\n",
      "29  Thu   Sep 01\n",
      "30  Thu   Sep 01\n",
      "31  Fri   Sep 02\n"
     ]
    }
   ],
   "source": [
    "temp_dataFrame = dates_Scores[\"FullDate\"].str.split(\",\", n = 1, expand = True) \n",
    "print(temp_dataFrame)"
   ]
  },
  {
   "cell_type": "code",
   "execution_count": 108,
   "metadata": {},
   "outputs": [
    {
     "name": "stdout",
     "output_type": "stream",
     "text": [
      "            Scores Day of Week     Date\n",
      "0  CAR 13 @ CIN 24         Thu   Aug 25\n",
      "1  CLE 14 @ PHI 24         Thu   Aug 25\n",
      "2  WAS 31 @ BAL 34         Thu   Aug 25\n",
      "3   GB 24 @ IND 21         Fri   Aug 26\n",
      "4   STL 14 @ KC 10         Fri   Aug 26\n",
      "5  JAC 32 @ BUF 35         Sat   Aug 27\n"
     ]
    }
   ],
   "source": [
    "dates_Scores[\"Day of Week\"]= temp_dataFrame[0]\n",
    "dates_Scores[\"Date\"] = temp_dataFrame[1]\n",
    "dates_Scores.drop(columns =[\"FullDate\"], inplace = True)\n",
    "print(dates_Scores.head(6))"
   ]
  },
  {
   "cell_type": "code",
   "execution_count": 109,
   "metadata": {
    "scrolled": true
   },
   "outputs": [
    {
     "name": "stdout",
     "output_type": "stream",
     "text": [
      "      0   1  2    3   4\n",
      "0   CAR  13  @  CIN  24\n",
      "1   CLE  14  @  PHI  24\n",
      "2   WAS  31  @  BAL  34\n",
      "3    GB  24  @  IND  21\n",
      "4   STL  14  @   KC  10\n",
      "5   JAC  32  @  BUF  35\n",
      "6   MIA  13  @   TB  17\n",
      "7   ATL  16  @  PIT  34\n",
      "8   DAL  23  @  MIN  17\n",
      "9   CHI  13  @  TEN  14\n",
      "10   NE  10  @  DET  34\n",
      "11  HOU  30  @   SF   7\n",
      "12  SEA  20  @  DEN  23\n",
      "13   SD  34  @  ARI  31\n",
      "14   NO  40  @  OAK  20\n",
      "15  NYJ  17  @  NYG   3\n",
      "16  DET  16  @  BUF   6\n",
      "17  IND  17  @  CIN  13\n",
      "18   TB  24  @  WAS  29\n",
      "19  STL  24  @  JAC  17\n",
      "20  DAL   3  @  MIA  17\n",
      "21  PHI  24  @  NYJ  14\n",
      "22  NYG  18  @   NE  17\n",
      "23  BAL  21  @  ATL   7\n",
      "24   KC  19  @   GB  20\n",
      "25  TEN  32  @   NO   9\n",
      "26  CLE  14  @  CHI  24\n",
      "27  HOU   0  @  MIN  28\n",
      "28  PIT  33  @  CAR  17\n",
      "29  DEN   7  @  ARI  26\n",
      "30   SF  20  @   SD  17\n",
      "31  OAK   3  @  SEA  20\n"
     ]
    }
   ],
   "source": [
    "temp_dataFrame = dates_Scores[\"Scores\"].str.split(\" \", n = -1, expand = True)\n",
    "print(temp_dataFrame)"
   ]
  },
  {
   "cell_type": "code",
   "execution_count": 110,
   "metadata": {},
   "outputs": [
    {
     "name": "stdout",
     "output_type": "stream",
     "text": [
      "  Day of Week     Date VisitingTeam VisitingScore HomeTeam HomeScore\n",
      "0         Thu   Aug 25          CAR            13      CIN        24\n",
      "1         Thu   Aug 25          CLE            14      PHI        24\n",
      "2         Thu   Aug 25          WAS            31      BAL        34\n",
      "3         Fri   Aug 26           GB            24      IND        21\n",
      "4         Fri   Aug 26          STL            14       KC        10\n"
     ]
    }
   ],
   "source": [
    "dates_Scores[\"VisitingTeam\"]= temp_dataFrame[0]\n",
    "dates_Scores[\"VisitingScore\"]= temp_dataFrame[1]\n",
    "dates_Scores[\"HomeTeam\"]= temp_dataFrame[3]\n",
    "dates_Scores[\"HomeScore\"]= temp_dataFrame[4]\n",
    "dates_Scores.drop(columns =[\"Scores\"], inplace = True)\n",
    "print(dates_Scores.head())"
   ]
  }
 ],
 "metadata": {
  "kernelspec": {
   "display_name": "Python 3",
   "language": "python",
   "name": "python3"
  },
  "language_info": {
   "codemirror_mode": {
    "name": "ipython",
    "version": 3
   },
   "file_extension": ".py",
   "mimetype": "text/x-python",
   "name": "python",
   "nbconvert_exporter": "python",
   "pygments_lexer": "ipython3",
   "version": "3.7.3"
  }
 },
 "nbformat": 4,
 "nbformat_minor": 2
}
